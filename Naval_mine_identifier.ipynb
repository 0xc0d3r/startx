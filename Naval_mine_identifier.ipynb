{
  "nbformat": 4,
  "nbformat_minor": 0,
  "metadata": {
    "colab": {
      "name": "Naval_mine_identifier.ipynb",
      "version": "0.3.2",
      "provenance": [],
      "include_colab_link": true
    },
    "kernelspec": {
      "name": "python3",
      "display_name": "Python 3"
    }
  },
  "cells": [
    {
      "cell_type": "markdown",
      "metadata": {
        "id": "view-in-github",
        "colab_type": "text"
      },
      "source": [
        "[View in Colaboratory](https://colab.research.google.com/github/0xc0d3r/startx/blob/master/Naval_mine_identifier.ipynb)"
      ]
    },
    {
      "metadata": {
        "id": "qLnCqUCZdW5_",
        "colab_type": "text"
      },
      "cell_type": "markdown",
      "source": [
        "**Source:**\n",
        "\n",
        "The data set was contributed to the benchmark collection by Terry Sejnowski, now at the Salk Institute and the University of California at San Deigo. The data set was developed in collaboration with R. Paul Gorman of Allied-Signal Aerospace Technology Center.\n",
        "\n",
        "**Data Set Information:**\n",
        "\n",
        "The file \"sonar.mines\" contains 111 patterns obtained by bouncing sonar signals off a metal cylinder at various angles and under various conditions. The file \"sonar.rocks\" contains 97 patterns obtained from rocks under similar conditions. The transmitted sonar signal is a frequency-modulated chirp, rising in frequency. The data set contains signals obtained from a variety of different aspect angles, spanning 90 degrees for the cylinder and 180 degrees for the rock.\n",
        "\n",
        "Each pattern is a set of 60 numbers in the range 0.0 to 1.0. Each number represents the energy within a particular frequency band, integrated over a certain period of time. The integration aperture for higher frequencies occur later in time, since these frequencies are transmitted later during the chirp.\n",
        "\n",
        "The label associated with each record contains the letter \"R\" if the object is a rock and \"M\" if it is a mine (metal cylinder). The numbers in the labels are in increasing order of aspect angle, but they do not encode the angle directly."
      ]
    },
    {
      "metadata": {
        "id": "RzN-XNkpZ4fv",
        "colab_type": "code",
        "colab": {}
      },
      "cell_type": "code",
      "source": [
        "import numpy as np\n",
        "import pandas as pd\n",
        "import tensorflow as tf\n",
        "import matplotlib.pyplot as plt\n",
        "from sklearn.utils import shuffle\n",
        "from sklearn.preprocessing import LabelEncoder\n",
        "from sklearn.model_selection import train_test_split "
      ],
      "execution_count": 0,
      "outputs": []
    },
    {
      "metadata": {
        "id": "rw04tsWTZ5Qh",
        "colab_type": "code",
        "colab": {}
      },
      "cell_type": "code",
      "source": [
        "#Loading the data\n",
        "data = pd.read_csv('https://raw.githubusercontent.com/malinenimaurya/datasets/master/Sonar.csv')"
      ],
      "execution_count": 0,
      "outputs": []
    },
    {
      "metadata": {
        "id": "U9nGJHDuaIQv",
        "colab_type": "code",
        "colab": {
          "base_uri": "https://localhost:8080/",
          "height": 253
        },
        "outputId": "13aa6e02-9bf3-4e84-f7aa-1835b77d72a6"
      },
      "cell_type": "code",
      "source": [
        "data.head()"
      ],
      "execution_count": 126,
      "outputs": [
        {
          "output_type": "execute_result",
          "data": {
            "text/html": [
              "<div>\n",
              "<style scoped>\n",
              "    .dataframe tbody tr th:only-of-type {\n",
              "        vertical-align: middle;\n",
              "    }\n",
              "\n",
              "    .dataframe tbody tr th {\n",
              "        vertical-align: top;\n",
              "    }\n",
              "\n",
              "    .dataframe thead th {\n",
              "        text-align: right;\n",
              "    }\n",
              "</style>\n",
              "<table border=\"1\" class=\"dataframe\">\n",
              "  <thead>\n",
              "    <tr style=\"text-align: right;\">\n",
              "      <th></th>\n",
              "      <th>V1</th>\n",
              "      <th>V2</th>\n",
              "      <th>V3</th>\n",
              "      <th>V4</th>\n",
              "      <th>V5</th>\n",
              "      <th>V6</th>\n",
              "      <th>V7</th>\n",
              "      <th>V8</th>\n",
              "      <th>V9</th>\n",
              "      <th>V10</th>\n",
              "      <th>...</th>\n",
              "      <th>V52</th>\n",
              "      <th>V53</th>\n",
              "      <th>V54</th>\n",
              "      <th>V55</th>\n",
              "      <th>V56</th>\n",
              "      <th>V57</th>\n",
              "      <th>V58</th>\n",
              "      <th>V59</th>\n",
              "      <th>V60</th>\n",
              "      <th>Class</th>\n",
              "    </tr>\n",
              "  </thead>\n",
              "  <tbody>\n",
              "    <tr>\n",
              "      <th>0</th>\n",
              "      <td>0.0200</td>\n",
              "      <td>0.0371</td>\n",
              "      <td>0.0428</td>\n",
              "      <td>0.0207</td>\n",
              "      <td>0.0954</td>\n",
              "      <td>0.0986</td>\n",
              "      <td>0.1539</td>\n",
              "      <td>0.1601</td>\n",
              "      <td>0.3109</td>\n",
              "      <td>0.2111</td>\n",
              "      <td>...</td>\n",
              "      <td>0.0027</td>\n",
              "      <td>0.0065</td>\n",
              "      <td>0.0159</td>\n",
              "      <td>0.0072</td>\n",
              "      <td>0.0167</td>\n",
              "      <td>0.0180</td>\n",
              "      <td>0.0084</td>\n",
              "      <td>0.0090</td>\n",
              "      <td>0.0032</td>\n",
              "      <td>1</td>\n",
              "    </tr>\n",
              "    <tr>\n",
              "      <th>1</th>\n",
              "      <td>0.0453</td>\n",
              "      <td>0.0523</td>\n",
              "      <td>0.0843</td>\n",
              "      <td>0.0689</td>\n",
              "      <td>0.1183</td>\n",
              "      <td>0.2583</td>\n",
              "      <td>0.2156</td>\n",
              "      <td>0.3481</td>\n",
              "      <td>0.3337</td>\n",
              "      <td>0.2872</td>\n",
              "      <td>...</td>\n",
              "      <td>0.0084</td>\n",
              "      <td>0.0089</td>\n",
              "      <td>0.0048</td>\n",
              "      <td>0.0094</td>\n",
              "      <td>0.0191</td>\n",
              "      <td>0.0140</td>\n",
              "      <td>0.0049</td>\n",
              "      <td>0.0052</td>\n",
              "      <td>0.0044</td>\n",
              "      <td>1</td>\n",
              "    </tr>\n",
              "    <tr>\n",
              "      <th>2</th>\n",
              "      <td>0.0262</td>\n",
              "      <td>0.0582</td>\n",
              "      <td>0.1099</td>\n",
              "      <td>0.1083</td>\n",
              "      <td>0.0974</td>\n",
              "      <td>0.2280</td>\n",
              "      <td>0.2431</td>\n",
              "      <td>0.3771</td>\n",
              "      <td>0.5598</td>\n",
              "      <td>0.6194</td>\n",
              "      <td>...</td>\n",
              "      <td>0.0232</td>\n",
              "      <td>0.0166</td>\n",
              "      <td>0.0095</td>\n",
              "      <td>0.0180</td>\n",
              "      <td>0.0244</td>\n",
              "      <td>0.0316</td>\n",
              "      <td>0.0164</td>\n",
              "      <td>0.0095</td>\n",
              "      <td>0.0078</td>\n",
              "      <td>1</td>\n",
              "    </tr>\n",
              "    <tr>\n",
              "      <th>3</th>\n",
              "      <td>0.0100</td>\n",
              "      <td>0.0171</td>\n",
              "      <td>0.0623</td>\n",
              "      <td>0.0205</td>\n",
              "      <td>0.0205</td>\n",
              "      <td>0.0368</td>\n",
              "      <td>0.1098</td>\n",
              "      <td>0.1276</td>\n",
              "      <td>0.0598</td>\n",
              "      <td>0.1264</td>\n",
              "      <td>...</td>\n",
              "      <td>0.0121</td>\n",
              "      <td>0.0036</td>\n",
              "      <td>0.0150</td>\n",
              "      <td>0.0085</td>\n",
              "      <td>0.0073</td>\n",
              "      <td>0.0050</td>\n",
              "      <td>0.0044</td>\n",
              "      <td>0.0040</td>\n",
              "      <td>0.0117</td>\n",
              "      <td>1</td>\n",
              "    </tr>\n",
              "    <tr>\n",
              "      <th>4</th>\n",
              "      <td>0.0762</td>\n",
              "      <td>0.0666</td>\n",
              "      <td>0.0481</td>\n",
              "      <td>0.0394</td>\n",
              "      <td>0.0590</td>\n",
              "      <td>0.0649</td>\n",
              "      <td>0.1209</td>\n",
              "      <td>0.2467</td>\n",
              "      <td>0.3564</td>\n",
              "      <td>0.4459</td>\n",
              "      <td>...</td>\n",
              "      <td>0.0031</td>\n",
              "      <td>0.0054</td>\n",
              "      <td>0.0105</td>\n",
              "      <td>0.0110</td>\n",
              "      <td>0.0015</td>\n",
              "      <td>0.0072</td>\n",
              "      <td>0.0048</td>\n",
              "      <td>0.0107</td>\n",
              "      <td>0.0094</td>\n",
              "      <td>1</td>\n",
              "    </tr>\n",
              "  </tbody>\n",
              "</table>\n",
              "<p>5 rows × 61 columns</p>\n",
              "</div>"
            ],
            "text/plain": [
              "       V1      V2      V3      V4      V5      V6      V7      V8      V9  \\\n",
              "0  0.0200  0.0371  0.0428  0.0207  0.0954  0.0986  0.1539  0.1601  0.3109   \n",
              "1  0.0453  0.0523  0.0843  0.0689  0.1183  0.2583  0.2156  0.3481  0.3337   \n",
              "2  0.0262  0.0582  0.1099  0.1083  0.0974  0.2280  0.2431  0.3771  0.5598   \n",
              "3  0.0100  0.0171  0.0623  0.0205  0.0205  0.0368  0.1098  0.1276  0.0598   \n",
              "4  0.0762  0.0666  0.0481  0.0394  0.0590  0.0649  0.1209  0.2467  0.3564   \n",
              "\n",
              "      V10  ...       V52     V53     V54     V55     V56     V57     V58  \\\n",
              "0  0.2111  ...    0.0027  0.0065  0.0159  0.0072  0.0167  0.0180  0.0084   \n",
              "1  0.2872  ...    0.0084  0.0089  0.0048  0.0094  0.0191  0.0140  0.0049   \n",
              "2  0.6194  ...    0.0232  0.0166  0.0095  0.0180  0.0244  0.0316  0.0164   \n",
              "3  0.1264  ...    0.0121  0.0036  0.0150  0.0085  0.0073  0.0050  0.0044   \n",
              "4  0.4459  ...    0.0031  0.0054  0.0105  0.0110  0.0015  0.0072  0.0048   \n",
              "\n",
              "      V59     V60  Class  \n",
              "0  0.0090  0.0032      1  \n",
              "1  0.0052  0.0044      1  \n",
              "2  0.0095  0.0078      1  \n",
              "3  0.0040  0.0117      1  \n",
              "4  0.0107  0.0094      1  \n",
              "\n",
              "[5 rows x 61 columns]"
            ]
          },
          "metadata": {
            "tags": []
          },
          "execution_count": 126
        }
      ]
    },
    {
      "metadata": {
        "id": "ORR31Xr-aj5f",
        "colab_type": "code",
        "colab": {
          "base_uri": "https://localhost:8080/",
          "height": 68
        },
        "outputId": "30d62a98-884b-4efa-cc5f-ae4c4fb1a04c"
      },
      "cell_type": "code",
      "source": [
        "data[data.columns[60]].value_counts()"
      ],
      "execution_count": 127,
      "outputs": [
        {
          "output_type": "execute_result",
          "data": {
            "text/plain": [
              "0    111\n",
              "1     97\n",
              "Name: Class, dtype: int64"
            ]
          },
          "metadata": {
            "tags": []
          },
          "execution_count": 127
        }
      ]
    },
    {
      "metadata": {
        "id": "bfMZQ4fOa8Jd",
        "colab_type": "text"
      },
      "cell_type": "markdown",
      "source": [
        " **Input and Output**"
      ]
    },
    {
      "metadata": {
        "id": "bLJ9SvFgbD9C",
        "colab_type": "code",
        "colab": {}
      },
      "cell_type": "code",
      "source": [
        "input_data = data[data.columns[0:60]].values\n",
        "output = data[data.columns[60]].values"
      ],
      "execution_count": 0,
      "outputs": []
    },
    {
      "metadata": {
        "id": "ssHg_Hi0bNeV",
        "colab_type": "code",
        "colab": {
          "base_uri": "https://localhost:8080/",
          "height": 34
        },
        "outputId": "3db985f8-7a66-42c7-963f-40d24d9fe2e4"
      },
      "cell_type": "code",
      "source": [
        "print(input_data.shape)"
      ],
      "execution_count": 129,
      "outputs": [
        {
          "output_type": "stream",
          "text": [
            "(208, 60)\n"
          ],
          "name": "stdout"
        }
      ]
    },
    {
      "metadata": {
        "id": "OWwBsqwebTBf",
        "colab_type": "code",
        "colab": {}
      },
      "cell_type": "code",
      "source": [
        "#One hot encoding the target variable\n",
        "def one_hot_encode(labels):\n",
        "    n_labels = len(labels)\n",
        "    n_unique_labels = len(np.unique(labels))\n",
        "    one_hot_encode = np.zeros((n_labels,n_unique_labels))\n",
        "    one_hot_encode[np.arange(n_labels), labels] = 1\n",
        "    return one_hot_encode"
      ],
      "execution_count": 0,
      "outputs": []
    },
    {
      "metadata": {
        "id": "EPW1uREOcDNM",
        "colab_type": "code",
        "colab": {}
      },
      "cell_type": "code",
      "source": [
        "output_data = one_hot_encode(output)"
      ],
      "execution_count": 0,
      "outputs": []
    },
    {
      "metadata": {
        "id": "nlxzZOJ5cDvz",
        "colab_type": "code",
        "colab": {
          "base_uri": "https://localhost:8080/",
          "height": 136
        },
        "outputId": "838bdef4-5732-4261-a2f3-985763faa6a7"
      },
      "cell_type": "code",
      "source": [
        "#Need to shuffle as the all Rocks and Mines are together\n",
        "input_data,output_data = shuffle (input_data, output_data, random_state = 0)\n",
        "print(input_data)"
      ],
      "execution_count": 132,
      "outputs": [
        {
          "output_type": "stream",
          "text": [
            "[[0.0079 0.0086 0.0055 ... 0.0058 0.0059 0.0032]\n",
            " [0.0229 0.0369 0.004  ... 0.0029 0.0104 0.0163]\n",
            " [0.0442 0.0477 0.0049 ... 0.0105 0.0059 0.0105]\n",
            " ...\n",
            " [0.0228 0.0106 0.013  ... 0.0045 0.0063 0.0039]\n",
            " [0.0373 0.0281 0.0232 ... 0.0054 0.0085 0.006 ]\n",
            " [0.018  0.0444 0.0476 ... 0.005  0.0073 0.0022]]\n"
          ],
          "name": "stdout"
        }
      ]
    },
    {
      "metadata": {
        "id": "NJ2Y3EO3cGf0",
        "colab_type": "code",
        "colab": {}
      },
      "cell_type": "code",
      "source": [
        "# Splittting the data into train and test\n",
        "train_x, test_x, train_y, test_y = train_test_split(input_data, output_data, test_size = 0.20, random_state = 0)"
      ],
      "execution_count": 0,
      "outputs": []
    },
    {
      "metadata": {
        "id": "_gFWCLQUcRSo",
        "colab_type": "code",
        "colab": {}
      },
      "cell_type": "code",
      "source": [
        "#Code for the Artificial neural net\n",
        "\n",
        "keep_prob = tf.placeholder(tf.float32)\n",
        "\n"
      ],
      "execution_count": 0,
      "outputs": []
    },
    {
      "metadata": {
        "id": "2PyHaz4QcU7M",
        "colab_type": "code",
        "colab": {}
      },
      "cell_type": "code",
      "source": [
        "X = tf.placeholder(tf.float32, [None, 60])\n",
        "W1 = tf.Variable(tf.truncated_normal([60, 256], stddev=0.1))\n",
        "b1 = tf.Variable(tf.ones([256])/10)\n",
        "\n",
        "W2 = tf.Variable(tf.truncated_normal([256, 128], stddev=0.1))\n",
        "b2 = tf.Variable(tf.ones([128])/10)\n",
        "\n",
        "W3 = tf.Variable(tf.truncated_normal([128, 64], stddev=0.1))\n",
        "b3 = tf.Variable(tf.ones([64])/10)\n",
        "\n",
        "W4 = tf.Variable(tf.truncated_normal([64, 2], stddev=0.1))\n",
        "b4 = tf.Variable(tf.ones([2])/10)\n",
        "\n",
        "Y1 = tf.nn.relu(tf.matmul(X,W1)+b1)\n",
        "Y1d = tf.nn.dropout(Y1, keep_prob)\n",
        "\n",
        "Y2 = tf.nn.relu(tf.matmul(Y1d,W2)+b2)\n",
        "Y2d = tf.nn.dropout(Y2, keep_prob)\n",
        "\n",
        "Y3 = tf.nn.relu(tf.matmul(Y2d,W3)+b3)\n",
        "Y3d = tf.nn.dropout(Y3, keep_prob)\n",
        "\n",
        "YLogits = tf.matmul(Y3d,W4)+b4\n",
        "Y = tf.nn.softmax(YLogits)\n"
      ],
      "execution_count": 0,
      "outputs": []
    },
    {
      "metadata": {
        "id": "8fUw2nO47VQU",
        "colab_type": "code",
        "colab": {}
      },
      "cell_type": "code",
      "source": [
        "Y_ = tf.placeholder(tf.float32, [None, 2])\n",
        "# loss function\n",
        "cross_entropy = tf.nn.softmax_cross_entropy_with_logits(logits=YLogits, labels=Y_) # handled nan(log0) for cross entropy, different optimisers\n",
        "cross_entropy = tf.reduce_mean(cross_entropy)*100\n",
        "\n",
        "\n",
        "# % of correct answers found in batch\n",
        "is_correct = tf.equal(tf.argmax(Y,1), tf.argmax(Y_,1))\n",
        "accuracy = tf.reduce_mean(tf.cast(is_correct, tf.float32))"
      ],
      "execution_count": 0,
      "outputs": []
    },
    {
      "metadata": {
        "id": "OfEerNO9-Ic9",
        "colab_type": "code",
        "colab": {}
      },
      "cell_type": "code",
      "source": [
        "optimizer = tf.train.AdamOptimizer(0.003)         #can use RMSprop, Adadelta, gradientdescent etc\n",
        "train_step = optimizer.minimize(cross_entropy)"
      ],
      "execution_count": 0,
      "outputs": []
    },
    {
      "metadata": {
        "id": "W0hVOOby-OkV",
        "colab_type": "code",
        "colab": {
          "base_uri": "https://localhost:8080/",
          "height": 357
        },
        "outputId": "4a4f03f2-0a62-4e52-f563-2e177ef4a503"
      },
      "cell_type": "code",
      "source": [
        "init = tf.global_variables_initializer()\n",
        "sess = tf.Session()\n",
        "sess.run(init)\n",
        "accuracy_history = []\n",
        "for i in range(1000):\n",
        "  train_data={X: train_x, Y_: train_y, keep_prob : 0.7}\n",
        "  # train\n",
        "  sess.run(train_step, feed_dict=train_data)\n",
        "  if i%50 == 0:\n",
        "    a,c = sess.run([accuracy, cross_entropy], feed_dict=train_data)\n",
        "    accuracy_history.append(a)\n",
        "    print(\"iteration:\"+ str(i) + \", accuracy:\" + str(a) +\", cross_entropy:\"+ str(c))\n",
        "  "
      ],
      "execution_count": 142,
      "outputs": [
        {
          "output_type": "stream",
          "text": [
            "iteration:0, accuracy:0.55421686, cross_entropy:68.25511\n",
            "iteration:50, accuracy:0.8072289, cross_entropy:37.82855\n",
            "iteration:100, accuracy:0.96385545, cross_entropy:16.001583\n",
            "iteration:150, accuracy:0.9819277, cross_entropy:5.452175\n",
            "iteration:200, accuracy:0.9879518, cross_entropy:3.0582836\n",
            "iteration:250, accuracy:0.9879518, cross_entropy:2.373193\n",
            "iteration:300, accuracy:1.0, cross_entropy:0.29304332\n",
            "iteration:350, accuracy:1.0, cross_entropy:0.52140516\n",
            "iteration:400, accuracy:1.0, cross_entropy:0.46745342\n",
            "iteration:450, accuracy:1.0, cross_entropy:0.06272124\n",
            "iteration:500, accuracy:1.0, cross_entropy:0.19166951\n",
            "iteration:550, accuracy:1.0, cross_entropy:0.03059021\n",
            "iteration:600, accuracy:1.0, cross_entropy:0.32274273\n",
            "iteration:650, accuracy:1.0, cross_entropy:0.022781126\n",
            "iteration:700, accuracy:1.0, cross_entropy:0.3668615\n",
            "iteration:750, accuracy:1.0, cross_entropy:0.1228814\n",
            "iteration:800, accuracy:1.0, cross_entropy:0.33106214\n",
            "iteration:850, accuracy:1.0, cross_entropy:0.33446702\n",
            "iteration:900, accuracy:1.0, cross_entropy:0.039980832\n",
            "iteration:950, accuracy:1.0, cross_entropy:0.030546665\n"
          ],
          "name": "stdout"
        }
      ]
    },
    {
      "metadata": {
        "id": "v_F2OmSO-PAA",
        "colab_type": "code",
        "colab": {
          "base_uri": "https://localhost:8080/",
          "height": 34
        },
        "outputId": "0c5faf20-ea43-42d7-d67f-7a3a52f73649"
      },
      "cell_type": "code",
      "source": [
        "test_data={X: test_x, Y_: test_y, keep_prob : 1}\n",
        "a,c = sess.run([accuracy, cross_entropy], feed_dict=test_data)\n",
        "print(a,c)"
      ],
      "execution_count": 143,
      "outputs": [
        {
          "output_type": "stream",
          "text": [
            "0.88095236 79.26053\n"
          ],
          "name": "stdout"
        }
      ]
    }
  ]
}