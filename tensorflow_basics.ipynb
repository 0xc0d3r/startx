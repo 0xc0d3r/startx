{
  "nbformat": 4,
  "nbformat_minor": 0,
  "metadata": {
    "colab": {
      "name": "tensorflow_basics.ipynb",
      "version": "0.3.2",
      "provenance": [],
      "include_colab_link": true
    },
    "kernelspec": {
      "name": "python3",
      "display_name": "Python 3"
    }
  },
  "cells": [
    {
      "cell_type": "markdown",
      "metadata": {
        "id": "view-in-github",
        "colab_type": "text"
      },
      "source": [
        "[View in Colaboratory](https://colab.research.google.com/github/0xc0d3r/startx/blob/master/tensorflow_basics.ipynb)"
      ]
    },
    {
      "metadata": {
        "id": "Hl-j9yZHZX-z",
        "colab_type": "code",
        "colab": {}
      },
      "cell_type": "code",
      "source": [
        "import tensorflow as tf\n",
        "a = tf.constant(3)\n",
        "b = tf.constant(4)\n"
      ],
      "execution_count": 0,
      "outputs": []
    },
    {
      "metadata": {
        "id": "ltBcU41KZyJg",
        "colab_type": "code",
        "colab": {}
      },
      "cell_type": "code",
      "source": [
        "session = tf.Session()\n",
        "session.run([a,b])\n",
        "session.close()"
      ],
      "execution_count": 0,
      "outputs": []
    },
    {
      "metadata": {
        "id": "8FKqRRqnd7KO",
        "colab_type": "code",
        "colab": {
          "base_uri": "https://localhost:8080/",
          "height": 34
        },
        "outputId": "40ec270c-3232-42bc-aede-bd0fd76e0d21"
      },
      "cell_type": "code",
      "source": [
        "import tensorflow as tf\n",
        "#Placeholders\n",
        "r = tf.placeholder(tf.float32)\n",
        "pi = tf.constant(22/7)\n",
        "Area = pi*r*r\n",
        "sess = tf.Session()\n",
        "print(sess.run(Area,{r:[1,2,3,4]}))"
      ],
      "execution_count": 2,
      "outputs": [
        {
          "output_type": "stream",
          "text": [
            "[ 3.142857 12.571428 28.285715 50.285713]\n"
          ],
          "name": "stdout"
        }
      ]
    },
    {
      "metadata": {
        "id": "gxEHYL6UeyHr",
        "colab_type": "code",
        "colab": {
          "base_uri": "https://localhost:8080/",
          "height": 34
        },
        "outputId": "4782cbac-3530-46c4-be3b-2e7800c64161"
      },
      "cell_type": "code",
      "source": [
        "#Linear_model\n",
        "x = tf.placeholder(tf.float32)\n",
        "y = tf.placeholder(tf.float32)\n",
        "m = tf.Variable([.3], tf.float32)\n",
        "c = tf.Variable([-.3], tf.float32)\n",
        "\n",
        "linear_model = m*x + c\n",
        "\n",
        "#Loss\n",
        "square_delta = tf.square(y - linear_model)\n",
        "loss = tf.reduce_sum(square_delta)\n",
        "\n",
        "optimizer = tf.train.GradientDescentOptimizer(0.01)\n",
        "train = optimizer.minimize(loss)\n",
        "init = tf.global_variables_initializer()\n",
        "\n",
        "# Session\n",
        "session = tf.Session()\n",
        "session.run(init)\n",
        "# session.run(loss, {x: [1,2,3,4], y:[0,-1, -2, -3]})\n",
        "for i in range(1000):\n",
        "  session.run(train, {x: [1,2,3,4], y:[0,-1, -2, -3]})\n",
        "print(session.run([m,c]))\n",
        "\n"
      ],
      "execution_count": 13,
      "outputs": [
        {
          "output_type": "stream",
          "text": [
            "[array([-0.9999969], dtype=float32), array([0.9999908], dtype=float32)]\n"
          ],
          "name": "stdout"
        }
      ]
    },
    {
      "metadata": {
        "id": "O4vWWf4nhnfc",
        "colab_type": "code",
        "colab": {}
      },
      "cell_type": "code",
      "source": [
        ""
      ],
      "execution_count": 0,
      "outputs": []
    }
  ]
}